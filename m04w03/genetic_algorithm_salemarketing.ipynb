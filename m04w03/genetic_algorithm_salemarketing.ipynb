{
  "cells": [
    {
      "cell_type": "code",
      "execution_count": 1,
      "metadata": {
        "id": "mu4m4dclwhMg"
      },
      "outputs": [],
      "source": [
        "import numpy as np\n",
        "import pandas as pd\n",
        "import random\n",
        "random.seed(0)\n",
        "%matplotlib inline"
      ]
    },
    {
      "cell_type": "code",
      "execution_count": 4,
      "metadata": {
        "id": "mTH642dEwauZ"
      },
      "outputs": [],
      "source": [
        "def load_data_from_file(file_name=\"advertising.csv\"):\n",
        "  data = np.genfromtxt(\"../data/\" + file_name, delimiter=\",\", skip_header=1)\n",
        "  features_X = data[:, :3]\n",
        "  sales_Y = data[:, 3]\n",
        "  features_X = np.insert(features_X, 0, 1, axis=1)\n",
        "  return features_X, sales_Y"
      ]
    },
    {
      "cell_type": "code",
      "execution_count": 5,
      "metadata": {
        "colab": {
          "base_uri": "https://localhost:8080/"
        },
        "id": "DL-LiLucz6t7",
        "outputId": "31a1f60c-1c03-4bca-b732-f10b908bde45"
      },
      "outputs": [
        {
          "name": "stdout",
          "output_type": "stream",
          "text": [
            "[[  1.  230.1  37.8  69.2]\n",
            " [  1.   44.5  39.3  45.1]\n",
            " [  1.   17.2  45.9  69.3]\n",
            " [  1.  151.5  41.3  58.5]\n",
            " [  1.  180.8  10.8  58.4]]\n"
          ]
        }
      ],
      "source": [
        "features_X, _ = load_data_from_file()\n",
        "print(features_X[:5, :])"
      ]
    },
    {
      "cell_type": "code",
      "execution_count": 4,
      "metadata": {
        "colab": {
          "base_uri": "https://localhost:8080/"
        },
        "id": "KEgw5aj5z7Kh",
        "outputId": "3b5e21c9-fd78-4d92-89b5-758c75bf5e52"
      },
      "outputs": [
        {
          "name": "stdout",
          "output_type": "stream",
          "text": [
            "(200,)\n"
          ]
        }
      ],
      "source": [
        "_, sales_Y = load_data_from_file()\n",
        "print(sales_Y.shape)"
      ]
    },
    {
      "cell_type": "markdown",
      "metadata": {
        "id": "RnChbflJw4ks"
      },
      "source": [
        "# 1. Khai báo các tham số cần thiết:"
      ]
    },
    {
      "cell_type": "code",
      "execution_count": 5,
      "metadata": {
        "id": "hlR1e3FlNqSp"
      },
      "outputs": [],
      "source": [
        "n = 4\n",
        "m = sales_Y.shape[0]\n",
        "n_generations = 100\n",
        "losses = []"
      ]
    },
    {
      "cell_type": "markdown",
      "metadata": {
        "id": "dUdjUKQ6w8E2"
      },
      "source": [
        "# 2. Khởi tạo các hàm tính toán cần thiết"
      ]
    },
    {
      "cell_type": "code",
      "execution_count": 6,
      "metadata": {
        "id": "emuKohv8w1vi"
      },
      "outputs": [],
      "source": [
        "def compute_loss(individual):\n",
        "  theta = np.array(individual)\n",
        "  y_hat = features_X.dot(theta)\n",
        "  #loss = np.mean((y_hat - sales_Y)**2)\n",
        "  loss = np.multiply((y_hat - sales_Y), (y_hat - sales_Y)).mean()\n",
        "  return loss"
      ]
    },
    {
      "cell_type": "code",
      "execution_count": 7,
      "metadata": {
        "colab": {
          "base_uri": "https://localhost:8080/"
        },
        "id": "SYy24J1qw11g",
        "outputId": "4d6d9f08-1ae6-4708-edb1-e6ca5efb17b7"
      },
      "outputs": [
        {
          "name": "stdout",
          "output_type": "stream",
          "text": [
            "1.0185991537088997e-06\n"
          ]
        }
      ],
      "source": [
        "# tính fitness values của một chromosome bằng cách nghịch đảo\n",
        "# giá trị của hàm loss theo công thức fitness = 1 / (loss + 1).\n",
        "\n",
        "def compute_fitness(individual):\n",
        "  loss = compute_loss(individual)\n",
        "  fitness_value = 1 / (loss + 1)\n",
        "  return fitness_value\n",
        "\n",
        "individual = [4.09, 4.82, 3.10, 4.02]\n",
        "fitness_score = compute_fitness(individual)\n",
        "print(fitness_score)"
      ]
    },
    {
      "cell_type": "code",
      "execution_count": 8,
      "metadata": {
        "colab": {
          "base_uri": "https://localhost:8080/"
        },
        "id": "uWdCzyXdxGBJ",
        "outputId": "bbc762c8-6d09-4b68-e4c1-ae7546712bf0"
      },
      "outputs": [
        {
          "name": "stdout",
          "output_type": "stream",
          "text": [
            "[ 0.59680801 -1.24173509  2.65966952  1.62779657]\n"
          ]
        }
      ],
      "source": [
        "# khởi tạo ngẫu nhiên giá trị của n genes (tham số θi) trong chromosome\n",
        "# với giá trị từng gene được khởi tạo [-bound/2, bound/2]\n",
        "def create_individual(n=4, bound=10):\n",
        "  individual = np.random.uniform(-bound/2, bound/2, n)\n",
        "  return individual\n",
        "\n",
        "individual = create_individual()\n",
        "print(individual)"
      ]
    },
    {
      "cell_type": "code",
      "execution_count": 9,
      "metadata": {
        "id": "m5StnxUjxKuj"
      },
      "outputs": [],
      "source": [
        "def crossover(individual1, individual2, crossover_rate=0.9):\n",
        "  individual1_new = individual1.copy()\n",
        "  individual2_new = individual2.copy()\n",
        "  for i in range(n):\n",
        "    if random.random() < crossover_rate:\n",
        "      individual1_new[i] = individual2[i]\n",
        "      individual2_new[i] = individual1[i]\n",
        "\n",
        "  return individual1_new, individual2_new"
      ]
    },
    {
      "cell_type": "code",
      "execution_count": null,
      "metadata": {
        "id": "z9ztfbPLjUW1"
      },
      "outputs": [],
      "source": [
        "def crossover_solution(sol1, sol2):\n",
        "  offsprings = np.array([[sol1[0], sol2[1]]])\n",
        "  offsprings = np.vstack((offsprings, [[sol2[0], sol1[1]]]))\n",
        "  return offsprings"
      ]
    },
    {
      "cell_type": "code",
      "execution_count": 10,
      "metadata": {
        "colab": {
          "base_uri": "https://localhost:8080/"
        },
        "id": "gxRHmzJW3gEk",
        "outputId": "14e735b6-7750-4e1d-ce06-022b4fdb1fcc"
      },
      "outputs": [
        {
          "name": "stdout",
          "output_type": "stream",
          "text": [
            "[3.44, 2.57, -0.79, -2.41]\n",
            "[4.09, 4.82, 3.1, 4.02]\n"
          ]
        }
      ],
      "source": [
        "# question 5\n",
        "individual1 = [4.09, 4.82, 3.10, 4.02]\n",
        "individual2 = [3.44, 2.57, -0.79, -2.41]\n",
        "\n",
        "individual1, individual2 = crossover(individual1, individual2, 2.0)\n",
        "print(individual1)\n",
        "print(individual2) # D"
      ]
    },
    {
      "cell_type": "code",
      "execution_count": 11,
      "metadata": {
        "id": "WXR5dIWRxU-Z"
      },
      "outputs": [],
      "source": [
        "# đột biến cho một cá thể với tỉ lệ đột biến là mutation_rate.\n",
        "def mutate(individual, mutation_rate=0.5):\n",
        "  individual_m = individual.copy()\n",
        "  for i in range(n):\n",
        "    if random.random() < mutation_rate:\n",
        "      individual_m[i] = random.uniform(-10, 10)\n",
        "  return individual_m"
      ]
    },
    {
      "cell_type": "code",
      "execution_count": null,
      "metadata": {
        "id": "q8Q3BOQ4kH-7"
      },
      "outputs": [],
      "source": [
        "def mutate_solution(sol):\n",
        "  mutationProb = 0.15\n",
        "  if np.random.rand() < mutationProb:\n",
        "    sol = sol + (((np.random.rand(2)*2) - 1) * 0.1)\n",
        "  return sol"
      ]
    },
    {
      "cell_type": "code",
      "execution_count": 16,
      "metadata": {
        "colab": {
          "base_uri": "https://localhost:8080/"
        },
        "id": "5YlviZI_4g6W",
        "outputId": "35b8658a-2399-4a53-95a3-a881c18b322b"
      },
      "outputs": [
        {
          "name": "stdout",
          "output_type": "stream",
          "text": [
            "False\n",
            "[4.09, 4.82, 3.1, 4.02]\n",
            "[4.09, 4.82, 5.116084083144479, 4.02]\n"
          ]
        }
      ],
      "source": [
        "before_individual = [4.09, 4.82, 3.10, 4.02]\n",
        "after_individual = mutate(before_individual)\n",
        "print(before_individual == after_individual)\n",
        "print(before_individual)\n",
        "print(after_individual)"
      ]
    },
    {
      "cell_type": "code",
      "execution_count": 13,
      "metadata": {
        "id": "hc3z814J41lJ"
      },
      "outputs": [],
      "source": [
        "def initializePopulation(m):\n",
        "  population = [create_individual() for _ in range(m)]\n",
        "  return population"
      ]
    },
    {
      "cell_type": "code",
      "execution_count": 14,
      "metadata": {
        "id": "HXbdzQucxZiy"
      },
      "outputs": [],
      "source": [
        "# chọn lọc tự nhiên cá thể tốt vào thế hệ kế tiếp.\n",
        "def selection(sorted_old_population, m = 100):\n",
        "  index1 = random.randint(0, m-1)\n",
        "  while True:\n",
        "    index2 = random.randint(0, m-1)\n",
        "    if index2 != index1:\n",
        "      break\n",
        "  individual_s = sorted_old_population[index1]\n",
        "  if index2 > index1:\n",
        "    individual_s = sorted_old_population[index2]\n",
        "  return individual_s"
      ]
    },
    {
      "cell_type": "code",
      "execution_count": 15,
      "metadata": {
        "id": "Qr03zw2_imWi"
      },
      "outputs": [],
      "source": [
        "def selection_solution(solutions, m = 20):\n",
        "  fitnesses = np.apply_along_axis(fitness, 1, solutions)\n",
        "  return solutions[np.argsort(fitnesses, axis=0)[:m], :]"
      ]
    },
    {
      "cell_type": "code",
      "execution_count": 23,
      "metadata": {
        "id": "VKNAvS2GxlUp"
      },
      "outputs": [],
      "source": [
        "# tạo ra quần thể mới đựa trên các bước selection, crossover và mutation. Lưu ý rằng chúng ta sẽ sử\n",
        "# dụng giải thuât Elitist algorithms để đảm bảo rằng elitism cá thể tốt nhất không bị loại bỏ, bằng cách\n",
        "# chuyển chúng trực tiếp sang thế hệ tiếp theo.\n",
        "def create_new_population(old_population, elitism=2, gen=1):\n",
        "  m = len(old_population)\n",
        "  sorted_population = sorted(old_population, key=compute_fitness)\n",
        "\n",
        "  if gen % 1 == 0:\n",
        "    print(\"Best loss:\", compute_loss(sorted_population[m-1]), \"with chromsome: \", sorted_population[m-1])\n",
        "\n",
        "  new_population = []\n",
        "  while len(new_population) < m-elitism:\n",
        "    # selection\n",
        "    individual1 = selection(sorted_population)\n",
        "    individual2 = selection(sorted_population)\n",
        "\n",
        "    # crossover\n",
        "    individual1, individual2 = crossover(individual1, individual2)\n",
        "\n",
        "    # mutation\n",
        "    individual1 = mutate(individual1)\n",
        "    individual2 = mutate(individual2)\n",
        "\n",
        "    new_population.append(individual1)\n",
        "    new_population.append(individual2)\n",
        "\n",
        "    # copy elitism chromosomes that have best fitness score to the next generation\n",
        "    # for ind in sorted_population[m-elitism]\n",
        "    new_population.extend(sorted_population[:elitism])\n",
        "\n",
        "  return new_population, compute_loss(sorted_population[m-1])"
      ]
    },
    {
      "cell_type": "code",
      "execution_count": 24,
      "metadata": {
        "colab": {
          "base_uri": "https://localhost:8080/"
        },
        "id": "fRNBuz_m77K4",
        "outputId": "02e68307-096b-4e9c-e3a6-21bb455829a2"
      },
      "outputs": [
        {
          "name": "stdout",
          "output_type": "stream",
          "text": [
            "Best loss: 123415.051528805 with chromsome:  [3.44, 2.57, -0.79, -2.41]\n"
          ]
        }
      ],
      "source": [
        "individual1 = [4.09 , 4.82 , 3.10 , 4.02]\n",
        "individual2 = [3.44 , 2.57 , -0.79 , -2.41]\n",
        "old_population = [individual1, individual2]\n",
        "new_population , _ = create_new_population(old_population, elitism =2, gen=1) # A"
      ]
    },
    {
      "cell_type": "markdown",
      "metadata": {
        "id": "6d05AA9Oxv7x"
      },
      "source": [
        "# 3. Thực hiện huấn luyện:"
      ]
    },
    {
      "cell_type": "code",
      "execution_count": 25,
      "metadata": {
        "id": "Ia8AuqQ0x5-W"
      },
      "outputs": [],
      "source": [
        "def run_GA():\n",
        "  n_generations = 100\n",
        "  m = 600\n",
        "  features_X, sales_Y = load_data_from_file()\n",
        "  population = initializePopulation(m)\n",
        "  for gen in range(n_generations):\n",
        "    population, loss = create_new_population(population, elitism=2, gen=gen)\n",
        "    losses.append(loss)\n",
        "  return losses"
      ]
    },
    {
      "cell_type": "code",
      "execution_count": 26,
      "metadata": {
        "colab": {
          "base_uri": "https://localhost:8080/",
          "height": 1000
        },
        "id": "SWtPDah98nph",
        "outputId": "1794acf8-de15-44be-cb08-e8ba14276b81"
      },
      "outputs": [
        {
          "name": "stdout",
          "output_type": "stream",
          "text": [
            "Best loss: 1190.4463228906925 with chromsome:  [2.34683268e+00 2.48704236e-01 2.67198054e-01 4.69887201e-04]\n",
            "Best loss: 211.1114979902407 with chromsome:  [-7.73666273  0.08174146  0.83775379 -0.50982266]\n",
            "Best loss: 6053.173518108991 with chromsome:  [-2.42125262  0.02983707  0.68653547  1.95706469]\n",
            "Best loss: 3534.830032820683 with chromsome:  [-0.52154436  0.57482795 -1.52605055 -1.24430919]\n",
            "Best loss: 4675.73325845996 with chromsome:  [-0.73607548  0.00857358  3.27458005 -2.85622718]\n",
            "Best loss: 37713.14607481822 with chromsome:  [-5.82840907 -1.59712016  1.01409105  5.59483812]\n",
            "Best loss: 6022.381151432044 with chromsome:  [-2.52737961  0.59556742 -0.51537171  0.12956016]\n",
            "Best loss: 13676.301989923459 with chromsome:  [-8.28648036  0.81992755  2.94008428 -2.98885053]\n",
            "Best loss: 29435.541045268816 with chromsome:  [ 2.13395352 -0.64511687 -6.51070203  7.64656745]\n",
            "Best loss: 29969.158432709126 with chromsome:  [-5.37145285  1.20560671 -1.7912101  -5.6842979 ]\n",
            "Best loss: 23944.75994585468 with chromsome:  [ 5.49310856 -1.05384753  3.01633796  4.52500412]\n",
            "Best loss: 46735.24410195751 with chromsome:  [-6.63808456 -0.49889407 -9.64027462  5.73527182]\n",
            "Best loss: 26877.099056433177 with chromsome:  [ 3.1685027   0.22080406 -9.64027462  3.83418624]\n",
            "Best loss: 7279.96568936717 with chromsome:  [ 4.68835123  0.64575905 -2.95156676 -1.52402349]\n",
            "Best loss: 24310.538641334548 with chromsome:  [ 4.19340273  0.92545749 -9.85257423  3.19345573]\n",
            "Best loss: 8026.481476401477 with chromsome:  [-6.99986441 -0.1055773   0.81786954  2.68108515]\n",
            "Best loss: 12799.676727637903 with chromsome:  [ 4.89260628  0.56606707 -7.07937897  1.83009121]\n",
            "Best loss: 5375.8882965116245 with chromsome:  [-9.41641116  0.39168832  2.45721499 -3.28924325]\n",
            "Best loss: 15997.39776364619 with chromsome:  [ 8.4434872   0.20878611 -1.29621355  3.55223204]\n",
            "Best loss: 6279.530186007997 with chromsome:  [-9.60820131  0.69047988 -3.68681731 -0.25002507]\n",
            "Best loss: 28029.809686890087 with chromsome:  [-0.33661431 -0.77840147 -3.61050373  7.55257665]\n",
            "Best loss: 43317.95664391085 with chromsome:  [-8.92935468  1.35231551 -9.96503666 -1.04322369]\n",
            "Best loss: 31490.80966746147 with chromsome:  [-9.93467354 -0.51900347  0.08258957 -2.09623046]\n",
            "Best loss: 23513.405082747966 with chromsome:  [ 4.2577744   0.05228924 -4.86342818 -0.50891741]\n",
            "Best loss: 23972.432050707965 with chromsome:  [-2.55240142 -1.3152714   6.41550772  1.18915259]\n",
            "Best loss: 10476.021970009097 with chromsome:  [ 6.65263686  0.66599821  1.09479917 -4.29067048]\n",
            "Best loss: 5026.039060680191 with chromsome:  [-7.14853378  0.16869919  1.72092526 -2.77501252]\n",
            "Best loss: 1302.369663794611 with chromsome:  [-9.93467354 -0.20430012  2.04037929  0.05952658]\n",
            "Best loss: 26406.92762694404 with chromsome:  [-1.51124815  0.21850764 -9.96503666  5.59782123]\n",
            "Best loss: 25687.951532898736 with chromsome:  [-9.93467354  0.36179955 -9.96503666  5.26002398]\n",
            "Best loss: 35972.225422338524 with chromsome:  [-9.93467354  1.30353602 -5.26315863  2.93236856]\n",
            "Best loss: 10192.213600045177 with chromsome:  [ 5.1805989   0.93688028 -2.57397685 -0.44660663]\n",
            "Best loss: 10248.12333612114 with chromsome:  [-9.31107731 -0.22340874 -4.36172411  3.18857227]\n",
            "Best loss: 31704.518933034484 with chromsome:  [-9.93467354  0.93264015 -9.96503666  5.50368084]\n",
            "Best loss: 5445.997827257869 with chromsome:  [-0.64537693  0.27167908 -2.97976945 -0.27883741]\n",
            "Best loss: 3546.056040394419 with chromsome:  [ 6.14599241 -0.48253434  1.24082305  0.68296195]\n",
            "Best loss: 22585.840009535717 with chromsome:  [-9.63058741  1.36317101 -3.19248756 -0.39719012]\n",
            "Best loss: 1152.816076683266 with chromsome:  [ 0.39785374  0.34635942  0.1032558  -1.09362974]\n",
            "Best loss: 25016.615231885095 with chromsome:  [ 6.69075549  0.52804743 -9.96503666  3.27623066]\n",
            "Best loss: 3578.688526644312 with chromsome:  [-9.93467354e+00  5.47692421e-03  4.00765454e+00 -2.08459564e+00]\n",
            "Best loss: 8158.38282295924 with chromsome:  [-1.90718745 -0.35235754 -3.12667279  2.8459452 ]\n",
            "Best loss: 32504.26204967903 with chromsome:  [-9.93467354 -0.30682894 -3.54967073  7.7560871 ]\n",
            "Best loss: 9166.276077149587 with chromsome:  [-9.93467354 -0.56411933  2.70209097  2.50573203]\n",
            "Best loss: 10524.180726367156 with chromsome:  [ 5.7987307  -0.87458778  3.01235427  1.9181519 ]\n",
            "Best loss: 37247.70774601804 with chromsome:  [-9.93467354 -0.12999684 -9.96503666  5.16879756]\n",
            "Best loss: 36505.44972840423 with chromsome:  [ 4.89596223  1.35159944 -0.82592686 -6.94021528]\n",
            "Best loss: 14083.630196669716 with chromsome:  [-9.93467354 -0.8858487  -0.13098874  3.43819338]\n",
            "Best loss: 23760.43240323079 with chromsome:  [ 9.52824946 -0.24056726  8.73353324 -6.212126  ]\n",
            "Best loss: 11139.101215076 with chromsome:  [-9.93467354  0.28134914  5.43582609 -2.44676634]\n",
            "Best loss: 4703.177958904516 with chromsome:  [-9.93467354 -0.1833444   4.26719082 -0.52719425]\n",
            "Best loss: 27543.014650287038 with chromsome:  [ 6.83304157  0.07504643 -9.96503666  5.63591528]\n",
            "Best loss: 7127.299117637078 with chromsome:  [-3.60638818  0.48816223 -4.13692095  2.55270875]\n",
            "Best loss: 1908.114855544633 with chromsome:  [ 4.03676795 -0.22669398  2.58123036 -0.90956763]\n",
            "Best loss: 2121.9837416636597 with chromsome:  [-9.93467354  0.21209092 -1.77338427  0.01262143]\n",
            "Best loss: 5959.098033003285 with chromsome:  [-9.93467354  0.13916577 -1.0002884   2.67463047]\n",
            "Best loss: 20341.64813963695 with chromsome:  [-9.93467354  0.18095141 -3.5458621  -1.39979292]\n",
            "Best loss: 18804.576517659516 with chromsome:  [-9.93467354 -0.11896985  5.68298042 -5.29427016]\n",
            "Best loss: 32075.45250925418 with chromsome:  [-9.93467354  0.30527576 -9.97885386  7.44170225]\n",
            "Best loss: 23480.048702555894 with chromsome:  [-9.93467354  0.90322406  5.50410206 -5.40195124]\n",
            "Best loss: 9414.044608836992 with chromsome:  [-9.93467354  0.54925002 -4.3192943  -0.38644285]\n",
            "Best loss: 25433.17544487705 with chromsome:  [ 2.11659757  0.94606069 -9.97885386  3.60291993]\n",
            "Best loss: 3712.8716061466594 with chromsome:  [-9.93467354  0.18686022  2.14463676 -0.02798724]\n",
            "Best loss: 31517.225440756218 with chromsome:  [-6.50810845 -0.97037294  6.50183412 -3.49088161]\n",
            "Best loss: 37787.43070431946 with chromsome:  [-9.93467354  1.4734333  -9.97885386 -0.21955174]\n",
            "Best loss: 12848.673044698546 with chromsome:  [ 6.04566705 -0.49670561 -1.34806343  0.41733614]\n",
            "Best loss: 24130.192564129342 with chromsome:  [-4.19371831  0.73625453 -9.97885386  3.96328083]\n",
            "Best loss: 24236.096029088498 with chromsome:  [-9.93467354 -0.34872211 -6.77218808  4.26201656]\n",
            "Best loss: 10019.472029710154 with chromsome:  [-4.61029315  0.62307576  0.28808507  0.27117741]\n",
            "Best loss: 12585.441341999183 with chromsome:  [-9.93467354 -0.85514836  1.26655129  1.67559669]\n",
            "Best loss: 24580.75973437314 with chromsome:  [-9.93467354  0.58860869 -9.97885386  4.75726525]\n",
            "Best loss: 26926.524179498898 with chromsome:  [ 5.40629782  0.97488552 -9.97885386  1.78259892]\n",
            "Best loss: 1992.3958473613984 with chromsome:  [-9.93467354 -0.22948979  0.62218913  0.26550997]\n",
            "Best loss: 24617.08628529051 with chromsome:  [-9.92947673  1.13487925 -3.95681983 -3.69884548]\n",
            "Best loss: 15933.089023367937 with chromsome:  [-9.93467354  0.50740994 -4.39766213 -1.26097495]\n",
            "Best loss: 11486.639576943975 with chromsome:  [-9.93467354 -0.65881709 -0.32461186  4.30255333]\n",
            "Best loss: 26170.20146751615 with chromsome:  [-9.93467354  0.46929437 -9.97885386  3.95520093]\n",
            "Best loss: 7235.160419590287 with chromsome:  [ 5.52836822  0.0405845   4.46509258 -3.73341087]\n",
            "Best loss: 27869.01321755974 with chromsome:  [ 9.77645867  0.30478638 -9.97885386  6.51597281]\n",
            "Best loss: 8215.13062099472 with chromsome:  [ 2.98059701 -0.04034547  3.79243859  0.0570921 ]\n",
            "Best loss: 11689.088622876923 with chromsome:  [-3.70767194  0.53526384 -0.86340703 -3.38286913]\n",
            "Best loss: 45437.36555577578 with chromsome:  [-7.9262143   0.76355896 -9.97885386  7.74333122]\n",
            "Best loss: 21034.549274860696 with chromsome:  [ 0.26236847  0.47658562  4.89547738 -6.68159667]\n",
            "Best loss: 10981.2503218023 with chromsome:  [-5.15318168  0.61924322  1.99396079 -4.54178167]\n",
            "Best loss: 21482.115684059998 with chromsome:  [-6.00079285  0.29094478 -7.20996073  6.13755508]\n",
            "Best loss: 20159.239846870314 with chromsome:  [-9.93467354 -0.82660472 -0.45834061  5.78055666]\n",
            "Best loss: 16236.643702089914 with chromsome:  [-9.93467354  0.28751459  5.45883898 -5.76286681]\n",
            "Best loss: 23610.79651270684 with chromsome:  [-9.93467354 -0.2916279  -5.2312677   7.21644855]\n",
            "Best loss: 30425.55545790176 with chromsome:  [-9.31288515  0.64753492 -9.97885386  2.20089833]\n",
            "Best loss: 4855.293280797708 with chromsome:  [-9.93467354 -0.22590779 -1.67934739  3.26232484]\n",
            "Best loss: 10026.394814616793 with chromsome:  [-9.93467354  0.30647503  2.84487485  0.06473147]\n",
            "Best loss: 41735.587928302964 with chromsome:  [-9.93467354  0.47235821  7.49575281 -1.52426919]\n",
            "Best loss: 14089.37674919955 with chromsome:  [-9.93467354 -0.06248144  1.36001567 -3.15313258]\n",
            "Best loss: 31334.378739060932 with chromsome:  [-9.93467354 -1.41983533  4.28284364  4.49473698]\n",
            "Best loss: 22103.667573111332 with chromsome:  [-0.84690665  0.62897382 -7.48993154  0.26697794]\n",
            "Best loss: 16220.66874393858 with chromsome:  [-9.93467354  0.26609505 -1.7686863  -2.56114798]\n",
            "Best loss: 3924.9658487247407 with chromsome:  [-9.93467354  0.07312026 -0.06355008 -1.29758846]\n",
            "Best loss: 7320.450843744726 with chromsome:  [-9.93467354 -0.06196391  5.57504466 -1.92260057]\n",
            "Best loss: 21904.52704802338 with chromsome:  [-2.19929077  1.00344375 -2.84942119  1.67370899]\n",
            "Best loss: 11142.492217352117 with chromsome:  [-9.94154394 -0.21594901 -3.62335594  5.00291055]\n",
            "Best loss: 14349.790803538886 with chromsome:  [ 9.85255847 -0.235786    5.9220711  -4.69415366]\n"
          ]
        },
        {
          "data": {
            "image/png": "[encoded data removed]",
            "text/plain": [
              "<Figure size 640x480 with 1 Axes>"
            ]
          },
          "metadata": {},
          "output_type": "display_data"
        }
      ],
      "source": [
        "import matplotlib.pyplot as plt\n",
        "\n",
        "def visualize_loss(losses_list):\n",
        "  plt.plot(losses_list, c='green')\n",
        "  plt.xlabel('Generations')\n",
        "  plt.ylabel('losses')\n",
        "  plt.show()\n",
        "\n",
        "losses_list = run_GA()\n",
        "visualize_loss(losses_list)"
      ]
    }
  ],
  "metadata": {
    "colab": {
      "provenance": []
    },
    "kernelspec": {
      "display_name": "env",
      "language": "python",
      "name": "python3"
    },
    "language_info": {
      "codemirror_mode": {
        "name": "ipython",
        "version": 3
      },
      "file_extension": ".py",
      "mimetype": "text/x-python",
      "name": "python",
      "nbconvert_exporter": "python",
      "pygments_lexer": "ipython3",
      "version": "3.11.9"
    }
  },
  "nbformat": 4,
  "nbformat_minor": 0
}
