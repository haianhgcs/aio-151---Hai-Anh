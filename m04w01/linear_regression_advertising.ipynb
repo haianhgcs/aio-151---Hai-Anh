{
 "cells": [
  {
   "cell_type": "code",
   "execution_count": 2,
   "metadata": {},
   "outputs": [],
   "source": [
    "import numpy as np\n",
    "import pandas as pd\n",
    "import random\n",
    "import matplotlib.pyplot as plt"
   ]
  },
  {
   "cell_type": "code",
   "execution_count": 23,
   "metadata": {},
   "outputs": [],
   "source": [
    "def get_column(data, index):\n",
    "    result = [row[index] for row in data]\n",
    "    return result\n",
    "\n",
    "def prepare_data(file_name_dataset):\n",
    "    data = np.genfromtxt(file_name_dataset, delimiter=',', skip_header=1).tolist()\n",
    "    N = len(data)\n",
    "    \n",
    "    # get tv (index = 0)\n",
    "    tv_data = get_column(data, 0)\n",
    "    \n",
    "    # get radio (index = 0)\n",
    "    radio_data = get_column(data, 1)\n",
    "    \n",
    "    # get newspaper (index = 2)\n",
    "    newspaper_data = get_column(data, 2)\n",
    "    \n",
    "    # get sales (index = 3)\n",
    "    sales_data = get_column(data, 3)\n",
    "    \n",
    "    # build X input and y output for training\n",
    "    X = [tv_data, radio_data, newspaper_data]\n",
    "    y = sales_data\n",
    "    \n",
    "    return X, y"
   ]
  },
  {
   "cell_type": "code",
   "execution_count": 24,
   "metadata": {},
   "outputs": [
    {
     "name": "stdout",
     "output_type": "stream",
     "text": [
      "[624.1, 175.10000000000002, 300.5, 78.9]\n"
     ]
    }
   ],
   "source": [
    "X, y = prepare_data('../data/advertising.csv')\n",
    "list = [sum(X[0][:5]), sum(X[1][:5]), sum(X[2][:5]), sum(y[:5])]\n",
    "print(list)\n"
   ]
  },
  {
   "cell_type": "code",
   "execution_count": 26,
   "metadata": {},
   "outputs": [],
   "source": [
    "def initialize_params():\n",
    "    #w1 = random.gauss(mu=0.0, sigma=0.01)\n",
    "    #w2 = random.gauss(mu=0.0, sigma=0.01)\n",
    "    #w3 = random.gauss(mu=0.0, sigma=0.01)\n",
    "    #b = 0\n",
    "    w1, w2, w3, b = (0.016992259082509283, 0.0070783670518262355, -0.002307860847821344, 0)\n",
    "    return w1, w2, w3, b"
   ]
  },
  {
   "cell_type": "code",
   "execution_count": 27,
   "metadata": {},
   "outputs": [
    {
     "name": "stdout",
     "output_type": "stream",
     "text": [
      "1.0\n"
     ]
    }
   ],
   "source": [
    "def predict(x1, x2, x3, w1, w2, w3, b):\n",
    "    result = x1 * w1 + x2 * w2 + x3 * w3 + b\n",
    "    return result\n",
    "\n",
    "y = predict(x1=1, x2=1, x3=1, w1=0, w2=0.5, w3=0, b=0.5)\n",
    "print(y)"
   ]
  },
  {
   "cell_type": "code",
   "execution_count": 42,
   "metadata": {},
   "outputs": [
    {
     "name": "stdout",
     "output_type": "stream",
     "text": [
      "0.25\n"
     ]
    }
   ],
   "source": [
    "def compute_loss_mse(y, y_hat):\n",
    "    return (y_hat - y) ** 2\n",
    "\n",
    "def compute_loss_mae(y, y_hat):\n",
    "    return abs(y_hat - y)\n",
    "\n",
    "l = compute_loss_mse(y_hat=1, y=0.5)\n",
    "print(l)"
   ]
  },
  {
   "cell_type": "code",
   "execution_count": 30,
   "metadata": {},
   "outputs": [
    {
     "name": "stdout",
     "output_type": "stream",
     "text": [
      "-1.0\n",
      "-3.0\n"
     ]
    }
   ],
   "source": [
    "# compute gradient\n",
    "def compute_gradient_wi(xi, y, y_hat):\n",
    "    dl_dwi = 2 * xi * (y_hat - y)\n",
    "    return dl_dwi\n",
    "\n",
    "def compute_gradient_b(y, y_hat):\n",
    "    dl_db = 2 * (y_hat - y)\n",
    "    return dl_db\n",
    "\n",
    "# MSE loss\n",
    "g_wi = compute_gradient_wi(xi=1.0, y=1.0, y_hat=0.5)\n",
    "print(g_wi)\n",
    "\n",
    "g_b = compute_gradient_b(y=2.0, y_hat=0.5)\n",
    "print(g_b)"
   ]
  },
  {
   "cell_type": "code",
   "execution_count": 31,
   "metadata": {},
   "outputs": [
    {
     "name": "stdout",
     "output_type": "stream",
     "text": [
      "1.000005\n",
      "0.50001\n"
     ]
    }
   ],
   "source": [
    "def update_weight_wi(wi, dl_dwi, lr):\n",
    "    wi = wi - lr * dl_dwi\n",
    "    return wi\n",
    "\n",
    "def update_weight_b(b, dl_db, lr):\n",
    "    b = b - lr * dl_db\n",
    "    return b\n",
    "\n",
    "after_wi = update_weight_wi(wi=1.0, dl_dwi=-0.5, lr=1e-5)\n",
    "print(after_wi)\n",
    "\n",
    "after_b = update_weight_b(b=0.5, dl_db=-1.0, lr=1e-5)\n",
    "print(after_b)"
   ]
  },
  {
   "cell_type": "code",
   "execution_count": 45,
   "metadata": {},
   "outputs": [],
   "source": [
    "def implement_linear_regression(X_data, y_data, epoch_max=50, lr = 1e-5):\n",
    "    losses = []\n",
    "    \n",
    "    w1, w2, w3, b = initialize_params()\n",
    "    \n",
    "    N = len(y_data)\n",
    "    for epoch in range(epoch_max):\n",
    "        for i in range(N):\n",
    "            # get a sample\n",
    "            x1 = X_data[0][i]\n",
    "            x2 = X_data[1][i]\n",
    "            x3 = X_data[2][i]\n",
    "            \n",
    "            y = y_data[i]\n",
    "            \n",
    "            # Compute output\n",
    "            y_hat = predict(x1, x2, x3, w1, w2, w3, b)\n",
    "            \n",
    "            # compute loss\n",
    "            loss = compute_loss_mse(y, y_hat)\n",
    "            \n",
    "            # compute gradient w1, w2, w3, b\n",
    "            dl_dw1 = compute_gradient_wi(x1, y, y_hat)\n",
    "            dl_dw2 = compute_gradient_wi(x2, y, y_hat)\n",
    "            dl_dw3 = compute_gradient_wi(x3, y, y_hat)\n",
    "            dl_db = compute_gradient_b(y, y_hat)\n",
    "            \n",
    "            # update parameters\n",
    "            w1 = update_weight_wi(w1, dl_dw1, lr)\n",
    "            w2 = update_weight_wi(w2, dl_dw2, lr)\n",
    "            w3 = update_weight_wi(w3, dl_dw3, lr)\n",
    "            b = update_weight_wi(b, dl_db, lr)\n",
    "            \n",
    "            # logging\n",
    "            losses.append(loss)\n",
    "    return (w1, w2, w3, b, losses)\n",
    "    "
   ]
  },
  {
   "cell_type": "code",
   "execution_count": 33,
   "metadata": {},
   "outputs": [
    {
     "name": "stdout",
     "output_type": "stream",
     "text": [
      "0.07405984066396477 0.15917360263437663 0.017561197559948935\n"
     ]
    }
   ],
   "source": [
    "X, y = prepare_data('../data/advertising.csv')\n",
    "(w1, w2, w3, b, losses) = implement_linear_regression(X, y)\n",
    "print(w1, w2, w3)"
   ]
  },
  {
   "cell_type": "code",
   "execution_count": 46,
   "metadata": {},
   "outputs": [
    {
     "name": "stdout",
     "output_type": "stream",
     "text": [
      "predicted sales is 8.213362172280364\n"
     ]
    },
    {
     "data": {
      "text/plain": [
       "[<matplotlib.lines.Line2D at 0x22b9de73e50>]"
      ]
     },
     "execution_count": 46,
     "metadata": {},
     "output_type": "execute_result"
    },
    {
     "data": {
      "image/png": "[encoded data removed]",
      "text/plain": [
       "<Figure size 640x480 with 1 Axes>"
      ]
     },
     "metadata": {},
     "output_type": "display_data"
    }
   ],
   "source": [
    "tv = 19.2\n",
    "radio = 35.9\n",
    "newspaper = 51.3\n",
    "\n",
    "X, y = prepare_data('../data/advertising.csv')\n",
    "(w1, w2, w3, b, losses) = implement_linear_regression(X, y, epoch_max=100, lr=1e-5)\n",
    "sales = predict(tv, radio, newspaper, w1, w2, w3, b)\n",
    "print(f'predicted sales is {sales}')\n",
    "\n",
    "plt.figure()\n",
    "plt.plot(range(100), losses[:100],'b')"
   ]
  },
  {
   "cell_type": "code",
   "execution_count": 47,
   "metadata": {},
   "outputs": [],
   "source": [
    "def implement_linear_regression(X_data, y_data, epoch_max=50, lr = 1e-5):\n",
    "    losses = []\n",
    "    \n",
    "    w1, w2, w3, b = initialize_params()\n",
    "    \n",
    "    N = len(y_data)\n",
    "    for epoch in range(epoch_max):\n",
    "        for i in range(N):\n",
    "            # get a sample\n",
    "            x1 = X_data[0][i]\n",
    "            x2 = X_data[1][i]\n",
    "            x3 = X_data[2][i]\n",
    "            \n",
    "            y = y_data[i]\n",
    "            \n",
    "            # Compute output\n",
    "            y_hat = predict(x1, x2, x3, w1, w2, w3, b)\n",
    "            \n",
    "            # compute loss\n",
    "            loss = compute_loss_mae(y, y_hat)\n",
    "            \n",
    "            # compute gradient w1, w2, w3, b\n",
    "            dl_dw1 = compute_gradient_wi(x1, y, y_hat)\n",
    "            dl_dw2 = compute_gradient_wi(x2, y, y_hat)\n",
    "            dl_dw3 = compute_gradient_wi(x3, y, y_hat)\n",
    "            dl_db = compute_gradient_b(y, y_hat)\n",
    "            \n",
    "            # update parameters\n",
    "            w1 = update_weight_wi(w1, dl_dw1, lr)\n",
    "            w2 = update_weight_wi(w2, dl_dw2, lr)\n",
    "            w3 = update_weight_wi(w3, dl_dw3, lr)\n",
    "            b = update_weight_wi(b, dl_db, lr)\n",
    "            \n",
    "            # logging\n",
    "            losses.append(loss)\n",
    "    return (w1, w2, w3, b, losses)"
   ]
  },
  {
   "cell_type": "code",
   "execution_count": 48,
   "metadata": {},
   "outputs": [
    {
     "name": "stdout",
     "output_type": "stream",
     "text": [
      "predicted sales is 8.213362172280364\n"
     ]
    },
    {
     "data": {
      "text/plain": [
       "[<matplotlib.lines.Line2D at 0x22b9dced210>]"
      ]
     },
     "execution_count": 48,
     "metadata": {},
     "output_type": "execute_result"
    },
    {
     "data": {
      "image/png": "[encoded data removed]",
      "text/plain": [
       "<Figure size 640x480 with 1 Axes>"
      ]
     },
     "metadata": {},
     "output_type": "display_data"
    }
   ],
   "source": [
    "tv = 19.2\n",
    "radio = 35.9\n",
    "newspaper = 51.3\n",
    "\n",
    "X, y = prepare_data('../data/advertising.csv')\n",
    "(w1, w2, w3, b, losses) = implement_linear_regression(X, y, epoch_max=100, lr=1e-5)\n",
    "sales = predict(tv, radio, newspaper, w1, w2, w3, b)\n",
    "print(f'predicted sales is {sales}')\n",
    "\n",
    "plt.figure()\n",
    "plt.plot(range(100), losses[:100],'b')"
   ]
  }
 ],
 "metadata": {
  "kernelspec": {
   "display_name": "env",
   "language": "python",
   "name": "python3"
  },
  "language_info": {
   "codemirror_mode": {
    "name": "ipython",
    "version": 3
   },
   "file_extension": ".py",
   "mimetype": "text/x-python",
   "name": "python",
   "nbconvert_exporter": "python",
   "pygments_lexer": "ipython3",
   "version": "3.11.9"
  }
 },
 "nbformat": 4,
 "nbformat_minor": 2
}
